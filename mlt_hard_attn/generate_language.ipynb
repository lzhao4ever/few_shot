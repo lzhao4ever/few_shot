{
 "cells": [
  {
   "cell_type": "code",
   "execution_count": 9,
   "metadata": {
    "collapsed": true
   },
   "outputs": [],
   "source": [
    "import matplotlib\n",
    "import matplotlib.pyplot as plt\n",
    "import matplotlib.patches as patches\n",
    "% matplotlib inline  \n",
    "from PIL import Image\n",
    "import numpy as np\n",
    "\n",
    "import csv\n",
    "import os\n",
    "from scipy import ndimage"
   ]
  },
  {
   "cell_type": "code",
   "execution_count": 10,
   "metadata": {
    "collapsed": true
   },
   "outputs": [],
   "source": [
    "def generate_language(img_dir, box_dir, lang_dir):\n",
    "    cnt = 0\n",
    "    for sub_dir in os.listdir(box_dir):\n",
    "        cnt = cnt + 1\n",
    "        if cnt > 1:\n",
    "            break\n",
    "        box_files = os.listdir(os.path.join(box_dir, sub_dir))\n",
    "\n",
    "        if not os.path.exists(os.path.join(lang_dir, sub_dir)):\n",
    "            os.mkdir(os.path.join(lang_dir, sub_dir))\n",
    "        print(os.path.join(lang_dir, sub_dir))\n",
    "        \n",
    "        for box_file in box_files:\n",
    "            box_name = os.path.join(box_dir, sub_dir, box_file)\n",
    "            file_id, _ = box_file.split('.')\n",
    "            img_file = file_id + '_color.jpg'\n",
    "            img_name = os.path.join(img_dir, sub_dir, img_file)\n",
    "            \n",
    "            box = []\n",
    "            with open(box_name) as txt_file:\n",
    "                box_info = txt_file.readlines()\n",
    "            # print(box_info)\n",
    "            for row in box_info:\n",
    "                row = row.strip().split(' ')\n",
    "                box.append(row)\n",
    "            # print 'box', box\n",
    "            box = np.array(box).astype(np.int)        \n",
    "            # print 'box', box\n",
    "\n",
    "            im = np.array(Image.open(img_name), dtype=np.uint8)\n",
    "            im_height, im_width = im.shape[0], im.shape[1]\n",
    "            # print im_height, im_width\n",
    "            \n",
    "            anno = []\n",
    "            for i in range(box.shape[0]):\n",
    "                a = box[i, 0:4]\n",
    "                cls = box[i, 4].astype(np.int)\n",
    "                center_x, center_y = (a[0] + a[2]) / 2, (a[1] + a[3]) / 2\n",
    "                # print 'center', center_x, center_y\n",
    "                # width = a[2] - a[0]\n",
    "                # height = a[3] - a[1]\n",
    "                box_area = (a[2] - a[0]) * (a[3] - a[1])\n",
    "                # print 'box_area', box_area\n",
    "                box_area_prop = box_area * 1.0 / im_height / im_width\n",
    "                # print 'box_area_proportion', box_area_prop\n",
    "                if box_area_prop < 1.0 / 9:\n",
    "                    word_size = 0\n",
    "                elif box_area_prop < 1.0 / 4:\n",
    "                    word_size = 1\n",
    "                else:\n",
    "                    word_size = 2\n",
    "                relative_center_x = center_x * 1.0 / im_width\n",
    "                relative_center_y = center_y * 1.0 / im_height\n",
    "                # print relative_center_x, relative_center_y\n",
    "                if relative_center_x < 1.0 / 3:\n",
    "                    word_loc_x = 0\n",
    "                elif relative_center_x < 1.0 * 2 / 3:\n",
    "                    word_loc_x = 1\n",
    "                else:\n",
    "                    word_loc_x = 2\n",
    "                if relative_center_y < 1.0 / 3:\n",
    "                    word_loc_y = 0\n",
    "                elif relative_center_y < 1.0 * 2 / 3:\n",
    "                    word_loc_y = 1\n",
    "                else:\n",
    "                    word_loc_y = 2\n",
    "                anno.append([a[0], a[1], a[2], a[3], cls, word_size, word_loc_x, word_loc_y])\n",
    "            # print anno\n",
    "            \n",
    "            if len(anno) == 0:\n",
    "                continue\n",
    "            \n",
    "            lang_file = os.path.join(lang_dir, sub_dir, file_id + '.txt')\n",
    "            # print(lang_file)\n",
    "            with open(lang_file, 'w') as handle:\n",
    "                for i in range(len(anno)):\n",
    "                    handle.write('%d %d %d %d %d %d %d %d\\n' % (anno[i][0], anno[i][1], anno[i][2], anno[i][3], \n",
    "                                                                anno[i][4], anno[i][5], anno[i][6], anno[i][7]))"
   ]
  },
  {
   "cell_type": "code",
   "execution_count": 11,
   "metadata": {
    "collapsed": false
   },
   "outputs": [
    {
     "name": "stdout",
     "output_type": "stream",
     "text": [
      "/home/yi/code/few_shot/mlt_attn/box_lang/b626b9709289bde3a6b3504b7f5586f4\n"
     ]
    }
   ],
   "source": [
    "img_dir = '/media/yi/DATA/data-orig/MLT/image'\n",
    "box_dir = '/home/yi/code/few_shot/mlt/box'\n",
    "lang_dir = '/home/yi/code/few_shot/mlt_attn/box_lang'\n",
    "\n",
    "generate_language(img_dir, box_dir, lang_dir)"
   ]
  },
  {
   "cell_type": "code",
   "execution_count": null,
   "metadata": {
    "collapsed": true
   },
   "outputs": [],
   "source": []
  }
 ],
 "metadata": {
  "kernelspec": {
   "display_name": "Python 2",
   "language": "python",
   "name": "python2"
  },
  "language_info": {
   "codemirror_mode": {
    "name": "ipython",
    "version": 2
   },
   "file_extension": ".py",
   "mimetype": "text/x-python",
   "name": "python",
   "nbconvert_exporter": "python",
   "pygments_lexer": "ipython2",
   "version": "2.7.12"
  }
 },
 "nbformat": 4,
 "nbformat_minor": 0
}
